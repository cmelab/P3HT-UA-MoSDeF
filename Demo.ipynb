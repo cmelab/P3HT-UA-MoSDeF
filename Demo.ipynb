{
 "cells": [
  {
   "cell_type": "code",
   "execution_count": null,
   "metadata": {},
   "outputs": [],
   "source": [
    "import warnings\n",
    "warnings.filterwarnings(\"ignore\")\n",
    "\n",
    "from util import Compound, Pack, Simulation\n",
    "\n",
    "# Clean up old runs\n",
    "!rm restart.gsd init.hoomdxml rigid_info.json trajectory.log final.xml trajectory.gsd\n",
    "\n",
    "p3ht = Compound(\"P3HT_16_typed.mol2\")\n",
    "packer = Pack(\n",
    "    p3ht, ff_file=\"opv_gaff.xml\", n_compounds=20, density=0.5, out_file=\"init.hoomdxml\"\n",
    ")\n",
    "packer.pack()\n",
    "my_sim = Simulation(\n",
    "    \"init.hoomdxml\",\n",
    "    kT=3.0,\n",
    "    gsd_write=1e2,\n",
    "    log_write=1e2,\n",
    "    e_factor=0.5,\n",
    "    n_steps=3e3,\n",
    "    mode=\"cpu\",\n",
    "    shrink_time=1e3,\n",
    ")\n",
    "my_sim.run()"
   ]
  }
 ],
 "metadata": {
  "kernelspec": {
   "display_name": "Python 3",
   "language": "python",
   "name": "python3"
  },
  "language_info": {
   "codemirror_mode": {
    "name": "ipython",
    "version": 3
   },
   "file_extension": ".py",
   "mimetype": "text/x-python",
   "name": "python",
   "nbconvert_exporter": "python",
   "pygments_lexer": "ipython3",
   "version": "3.6.4"
  }
 },
 "nbformat": 4,
 "nbformat_minor": 2
}
